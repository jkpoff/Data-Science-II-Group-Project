{
 "cells": [
  {
   "cell_type": "code",
   "execution_count": 5,
   "id": "09843adc",
   "metadata": {},
   "outputs": [],
   "source": [
    "import pandas as pd\n",
    "from sklearn.model_selection import train_test_split\n",
    "from sklearn.preprocessing import StandardScaler\n",
    "from sklearn.metrics import accuracy_score, classification_report\n",
    "import tensorflow as tf"
   ]
  },
  {
   "cell_type": "code",
   "execution_count": null,
   "id": "514e9bc9",
   "metadata": {},
   "outputs": [
    {
     "name": "stdout",
     "output_type": "stream",
     "text": [
      "[[-1.09966318  0.04410549  0.09531136 ... -0.57550825  2.23749159\n",
      "  -0.08979928]\n",
      " [-0.37799432 -0.21327604  0.26045029 ...  0.05863985 -0.21772281\n",
      "  -1.99411485]\n",
      " [ 0.46395268  1.55622195  0.6207534  ... -1.02847118  0.01987858\n",
      "   0.21088213]\n",
      " ...\n",
      " [-2.78355719 -0.11675797 -0.28000439 ...  0.87397312 -0.27052312\n",
      "   0.61179067]\n",
      " [ 1.0653434  -0.30979411  0.02024821 ... -0.12254532 -0.27052312\n",
      "  -0.79138923]\n",
      " [-1.94161019  0.30148701  0.18538714 ...  0.14923244 -0.29692327\n",
      "  -1.07202521]]\n"
     ]
    }
   ],
   "source": [
    "# Load dataset\n",
    "df = pd.read_csv('./diabetes_ds.csv')\n",
    "# Filter out patients who are predicted to have diabetes\n",
    "df_filtered = df[~df['CLASS'].str.contains('P', na=False)]\n",
    "\n",
    "# Create feature matrix and target vector\n",
    "x = df_filtered.iloc[:, 3:13]\n",
    "y = df_filtered['CLASS']\n",
    "\n",
    "# Split the dataset into training and testing sets\n",
    "X_train, X_test, y_train, y_test = train_test_split(x, y, test_size=0.2, random_state=42)\n",
    "\n",
    "# Standardize the feature values\n",
    "scaler = StandardScaler()\n",
    "X_train = scaler.fit_transform(X_train)\n",
    "X_test = scaler.transform(X_test)\n"
   ]
  }
 ],
 "metadata": {
  "kernelspec": {
   "display_name": "base",
   "language": "python",
   "name": "python3"
  },
  "language_info": {
   "codemirror_mode": {
    "name": "ipython",
    "version": 3
   },
   "file_extension": ".py",
   "mimetype": "text/x-python",
   "name": "python",
   "nbconvert_exporter": "python",
   "pygments_lexer": "ipython3",
   "version": "3.10.16"
  }
 },
 "nbformat": 4,
 "nbformat_minor": 5
}
